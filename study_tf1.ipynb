{
 "cells": [
  {
   "cell_type": "markdown",
   "id": "46746bc2",
   "metadata": {},
   "source": [
    "参考文档：\n",
    "\n",
    "https://doc.codingdict.com/tensorflow/tfdoc/get_started/introduction.html"
   ]
  },
  {
   "cell_type": "code",
   "execution_count": 13,
   "id": "3ada8c5b",
   "metadata": {},
   "outputs": [
    {
     "name": "stdout",
     "output_type": "stream",
     "text": [
      "0 [[ 0.96835566 -0.35234785]] [0.5214415]\n",
      "20 [[0.25535613 0.0445132 ]] [0.31534782]\n",
      "40 [[0.13048306 0.16288084]] [0.30710977]\n",
      "60 [[0.10556558 0.19068205]] [0.3028754]\n",
      "80 [[0.10085619 0.19751641]] [0.30109426]\n",
      "100 [[0.10006559 0.19929458]] [0.30040365]\n",
      "120 [[0.09997258 0.19978733]] [0.30014637]\n",
      "140 [[0.09997949 0.19993262]] [0.30005255]\n",
      "160 [[0.09999043 0.19997784]] [0.30001876]\n",
      "180 [[0.09999613 0.19999251]] [0.3000067]\n",
      "200 [[0.09999853 0.1999974 ]] [0.3000024]\n"
     ]
    }
   ],
   "source": [
    "import tensorflow as tf\n",
    "import numpy as np\n",
    "\n",
    "# 使用 NumPy 生成假数据(phony data), 总共 100 个点.\n",
    "x_data = np.float32(np.random.rand(2, 100)) # 随机输入\n",
    "y_data = np.dot([0.100, 0.200], x_data) + 0.300\n",
    "\n",
    "# 构造一个线性模型\n",
    "# \n",
    "b = tf.Variable(tf.zeros([1]))\n",
    "W = tf.Variable(tf.random_uniform([1, 2], -1.0, 1.0))\n",
    "y = tf.matmul(W, x_data) + b\n",
    "\n",
    "# 最小化方差\n",
    "loss = tf.reduce_mean(tf.square(y - y_data))\n",
    "optimizer = tf.train.GradientDescentOptimizer(0.5)\n",
    "train = optimizer.minimize(loss)\n",
    "\n",
    "# 初始化变量\n",
    "init = tf.initialize_all_variables()\n",
    "\n",
    "# 启动图 (graph)\n",
    "sess = tf.Session()\n",
    "sess.run(init)\n",
    "\n",
    "# 拟合平面\n",
    "for step in range(0, 201):\n",
    "    sess.run(train)\n",
    "    if step % 20 == 0:\n",
    "        print(step, sess.run(W), sess.run(b))"
   ]
  }
 ],
 "metadata": {
  "kernelspec": {
   "display_name": "Python 3",
   "language": "python",
   "name": "python3"
  },
  "language_info": {
   "codemirror_mode": {
    "name": "ipython",
    "version": 3
   },
   "file_extension": ".py",
   "mimetype": "text/x-python",
   "name": "python",
   "nbconvert_exporter": "python",
   "pygments_lexer": "ipython3",
   "version": "3.6.13"
  }
 },
 "nbformat": 4,
 "nbformat_minor": 5
}
